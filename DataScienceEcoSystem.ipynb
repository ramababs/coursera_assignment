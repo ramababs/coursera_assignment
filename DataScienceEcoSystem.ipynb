{
 "cells": [
  {
   "cell_type": "markdown",
   "id": "450465d0-ae5b-476b-abe8-dd14c4f6548b",
   "metadata": {},
   "source": [
    "# Exercise 2 Create a markdown cell with the title of the notebook. (1 pt)"
   ]
  },
  {
   "cell_type": "markdown",
   "id": "63454a27-5d43-42c0-9b2d-6b5611d61a33",
   "metadata": {},
   "source": [
    "# Data Science Tools and Ecosystem"
   ]
  },
  {
   "cell_type": "markdown",
   "id": "f662e5f6-a0fe-4bbd-bbd3-6ed0a83586c9",
   "metadata": {},
   "source": [
    "### Exercise 3 - Create a markdown cell for an introduction"
   ]
  },
  {
   "cell_type": "markdown",
   "id": "f643dd38-7948-44e1-a65e-329fcdf83537",
   "metadata": {},
   "source": [
    "# Exercise 10 - Insert a markdown cell to list Objectives"
   ]
  },
  {
   "cell_type": "markdown",
   "id": "563f7096-f9d7-4c6b-afe3-eecd3d4c810d",
   "metadata": {},
   "source": [
    "In this notebook, Data Science Tools and Ecosystem are summarized."
   ]
  },
  {
   "cell_type": "markdown",
   "id": "6c6eabc9-6753-45c3-8d7a-4e53e05a7f53",
   "metadata": {},
   "source": [
    "__Objectives:__\n",
    "\n"
   ]
  },
  {
   "cell_type": "markdown",
   "id": "9c1aac3a-185a-4cd7-abf8-7445214bf0cc",
   "metadata": {},
   "source": [
    "* List popular languages for Data Science\n",
    "* List popular libraries used for Data Science\n",
    "* List open source tools used for Data Science\n",
    "* List examples of commercial and cloud-based data science tools."
   ]
  },
  {
   "cell_type": "code",
   "execution_count": null,
   "id": "c330facd-1c9a-4f8a-b3b5-30ffec9b7eee",
   "metadata": {},
   "outputs": [],
   "source": []
  },
  {
   "cell_type": "code",
   "execution_count": null,
   "id": "dd72ef12-384a-4a4b-85a4-4fd84e5a9fb8",
   "metadata": {},
   "outputs": [],
   "source": []
  },
  {
   "cell_type": "markdown",
   "id": "53b24019-fbbe-4e2e-8be5-8b436f4e811d",
   "metadata": {},
   "source": [
    "# Exercise 4 - Create a markdown cell to list data science languages"
   ]
  },
  {
   "cell_type": "code",
   "execution_count": null,
   "id": "16704da9-a038-48a3-988b-a537df1695f9",
   "metadata": {},
   "outputs": [],
   "source": [
    "Some of the popular languages that Data Scientists use are:"
   ]
  },
  {
   "cell_type": "markdown",
   "id": "c46932ec-d688-4ced-bf96-4c5f93cb5d13",
   "metadata": {},
   "source": [
    "1. Python\n",
    "2. R\n",
    "3. SQL"
   ]
  },
  {
   "cell_type": "code",
   "execution_count": null,
   "id": "7c045770-4ab0-4ca2-84fd-bb93c27a72d8",
   "metadata": {},
   "outputs": [],
   "source": []
  },
  {
   "cell_type": "code",
   "execution_count": null,
   "id": "ae80efe9-6038-40f9-bc22-8b4afbeb2510",
   "metadata": {},
   "outputs": [],
   "source": []
  },
  {
   "cell_type": "markdown",
   "id": "cdd56bb3-59f0-4678-b68f-2abd523c9bab",
   "metadata": {},
   "source": [
    "# Exercise 5 - Create a markdown cell to list data science libraries"
   ]
  },
  {
   "cell_type": "markdown",
   "id": "73cfeabd-a341-4f66-b2cd-f16a1df289d5",
   "metadata": {},
   "source": [
    "Some of the commonly used libraries used by Data Scientists include:\n",
    "1. Pandas\n",
    "2. Numpy\n",
    "3. SKLearn"
   ]
  },
  {
   "cell_type": "code",
   "execution_count": null,
   "id": "66bba834-e6b2-4834-812c-d05030a2357f",
   "metadata": {},
   "outputs": [],
   "source": []
  },
  {
   "cell_type": "markdown",
   "id": "9f6008b6-a1e4-49dc-8457-93c62f4ec12f",
   "metadata": {},
   "source": [
    "# Exercise 6 - Create a markdown cell with a table of Data Science tools"
   ]
  },
  {
   "cell_type": "markdown",
   "id": "c9f15bf1-1513-4a23-b1b2-039b722572d4",
   "metadata": {},
   "source": [
    "| Data Science Tools |\n",
    "----------------------\n",
    "| Jupyter Notebook |\n",
    "| Jupyter Lab |\n",
    "| VSCode|"
   ]
  },
  {
   "cell_type": "code",
   "execution_count": null,
   "id": "c0d9b496-208c-4c73-ba14-df5170ad9215",
   "metadata": {},
   "outputs": [],
   "source": []
  },
  {
   "cell_type": "markdown",
   "id": "ae502772-d655-4803-bfe6-765917e30402",
   "metadata": {},
   "source": [
    "# Exercise 7 - Create a markdown cell introducing arithmetic expression examples"
   ]
  },
  {
   "cell_type": "markdown",
   "id": "b5846dca-f831-43b6-8af9-00b886d05f00",
   "metadata": {},
   "source": [
    "### Below are a few examples of evaluating arithmetic expressions in Python.\n"
   ]
  },
  {
   "cell_type": "code",
   "execution_count": null,
   "id": "f53ad74b-9c0a-466a-8aab-92cea0ba8455",
   "metadata": {},
   "outputs": [],
   "source": []
  },
  {
   "cell_type": "code",
   "execution_count": null,
   "id": "a9e33c24-1da8-4c71-9c12-de3d9bedb5b4",
   "metadata": {},
   "outputs": [],
   "source": []
  },
  {
   "cell_type": "code",
   "execution_count": null,
   "id": "a37f77d4-2ffd-478b-a01d-b03ab9ba610e",
   "metadata": {},
   "outputs": [],
   "source": []
  },
  {
   "cell_type": "markdown",
   "id": "a996093f-a477-49a2-9284-d7e62d16bce1",
   "metadata": {},
   "source": [
    "# Exercise 8 - Create a code cell to multiply and add numbers"
   ]
  },
  {
   "cell_type": "code",
   "execution_count": 2,
   "id": "1fac688d-be8e-4e12-84d5-1fbbb5095e31",
   "metadata": {},
   "outputs": [
    {
     "data": {
      "text/plain": [
       "17"
      ]
     },
     "execution_count": 2,
     "metadata": {},
     "output_type": "execute_result"
    }
   ],
   "source": [
    "# This a simple arithmetic expression to mutiply then add integers\n",
    "(3*4) + 5"
   ]
  },
  {
   "cell_type": "code",
   "execution_count": null,
   "id": "f44eef04-6ca1-44dd-9a0c-f406d02175c1",
   "metadata": {},
   "outputs": [],
   "source": []
  },
  {
   "cell_type": "markdown",
   "id": "a9330636-0f47-4df2-b3b4-f2c4f2efca31",
   "metadata": {},
   "source": [
    "# Exercise 9 - Create a code cell to convert minutes to hours"
   ]
  },
  {
   "cell_type": "code",
   "execution_count": 3,
   "id": "54015ef0-8aec-45ad-a992-158833f900ac",
   "metadata": {},
   "outputs": [
    {
     "data": {
      "text/plain": [
       "3.3333333333333335"
      ]
     },
     "execution_count": 3,
     "metadata": {},
     "output_type": "execute_result"
    }
   ],
   "source": [
    "#  This will convert 200 minutes to hours by diving by 60\n",
    "200/60 "
   ]
  },
  {
   "cell_type": "code",
   "execution_count": null,
   "id": "affea97e-1d22-47a0-8b9d-5f9c45b82040",
   "metadata": {},
   "outputs": [],
   "source": []
  },
  {
   "cell_type": "markdown",
   "id": "c702fc98-d26f-47b5-b2ee-276709f4faaa",
   "metadata": {},
   "source": [
    "# Exercise 11 - Create a markdown cell to indicate the Author's name"
   ]
  },
  {
   "cell_type": "markdown",
   "id": "46ffd84a-47c8-4e70-88e3-5f6288749709",
   "metadata": {},
   "source": [
    "## Author"
   ]
  },
  {
   "cell_type": "markdown",
   "id": "d4706bf2-5558-4503-9713-7a583b9038bf",
   "metadata": {},
   "source": [
    "Ramatu Baba Safiano"
   ]
  },
  {
   "cell_type": "markdown",
   "id": "b4947ef1-29d7-407b-aab9-551f32917798",
   "metadata": {},
   "source": []
  },
  {
   "cell_type": "code",
   "execution_count": null,
   "id": "f911496f-f817-4937-8b24-ca539bb38e70",
   "metadata": {},
   "outputs": [],
   "source": []
  },
  {
   "cell_type": "code",
   "execution_count": null,
   "id": "03f2ea63-8b91-4cbd-bb87-f5e49435606a",
   "metadata": {},
   "outputs": [],
   "source": []
  },
  {
   "cell_type": "code",
   "execution_count": null,
   "id": "39a477e8-c32f-44e4-bfde-9237a24e5e6c",
   "metadata": {},
   "outputs": [],
   "source": []
  }
 ],
 "metadata": {
  "kernelspec": {
   "display_name": "Python 3 (ipykernel)",
   "language": "python",
   "name": "python3"
  },
  "language_info": {
   "codemirror_mode": {
    "name": "ipython",
    "version": 3
   },
   "file_extension": ".py",
   "mimetype": "text/x-python",
   "name": "python",
   "nbconvert_exporter": "python",
   "pygments_lexer": "ipython3",
   "version": "3.11.7"
  }
 },
 "nbformat": 4,
 "nbformat_minor": 5
}
